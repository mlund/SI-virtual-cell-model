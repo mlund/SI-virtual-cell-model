{
 "cells": [
  {
   "cell_type": "markdown",
   "metadata": {},
   "source": [
    "# Virtual Cell model - Analysis - MD vs MC"
   ]
  },
  {
   "cell_type": "code",
   "execution_count": 9,
   "metadata": {},
   "outputs": [
    {
     "name": "stdout",
     "output_type": "stream",
     "text": [
      "/Users/michael/Desktop/VCM_repo\n"
     ]
    }
   ],
   "source": [
    "#Go in the working directory\n",
    "\n",
    "try:\n",
    "    workdir\n",
    "except NameError:\n",
    "    workdir=%pwd\n",
    "else:\n",
    "    %cd -q $workdir\n",
    "\n",
    "%cd $workdir/"
   ]
  },
  {
   "cell_type": "code",
   "execution_count": 10,
   "metadata": {},
   "outputs": [
    {
     "data": {
      "text/html": [
       "\n",
       "<style>\n",
       "    div#notebook-container    { width: 100%; }\n",
       "    div#menubar-container     { width: 100%; }\n",
       "    div#maintoolbar-container { width: 100%; }\n",
       "</style>\n"
      ],
      "text/plain": [
       "<IPython.core.display.HTML object>"
      ]
     },
     "metadata": {},
     "output_type": "display_data"
    }
   ],
   "source": [
    "# Import packages\n",
    "\n",
    "import os\n",
    "import json\n",
    "import pandas as pd\n",
    "import numpy as np\n",
    "import mdtraj as md\n",
    "import matplotlib as mpl, matplotlib.pyplot as plt\n",
    "import matplotlib.image as mpimg\n",
    "from matplotlib.offsetbox import TextArea, DrawingArea, OffsetImage, AnnotationBbox\n",
    "from IPython.display import display, HTML\n",
    "display(HTML(data=\"\"\"\n",
    "<style>\n",
    "    div#notebook-container    { width: 100%; }\n",
    "    div#menubar-container     { width: 100%; }\n",
    "    div#maintoolbar-container { width: 100%; }\n",
    "</style>\n",
    "\"\"\"))\n",
    "\n",
    "plt.rcParams.update({'font.size':16,'legend.frameon':True,'figure.figsize':[12,8],'xtick.major.size':7,'ytick.major.size':7,'legend.labelspacing':1})"
   ]
  },
  {
   "cell_type": "markdown",
   "metadata": {},
   "source": [
    "# Functions"
   ]
  },
  {
   "cell_type": "code",
   "execution_count": 11,
   "metadata": {},
   "outputs": [],
   "source": [
    "# Calculate the density profile of ions\n",
    "\n",
    "Nav = 6.022e23          # 1/mol\n",
    "to_mM = 1e24/Nav *1000 # convert 1/nm^3 --> mmol/l\n",
    "\n",
    "def densityProfile(traj, I,  bins):\n",
    "    ''' calculates the ion profile from trajectory '''\n",
    "    d = []\n",
    "    sel = traj.top.select('name '+(I)) # Ions index\n",
    "    traj.atom_slice(sel, inplace=True)  # Create a new trajectory from a subset of atoms\n",
    "    origin = np.array(traj.unitcell_lengths[0]/2) # Middle of box\n",
    "    \n",
    "    for i in traj.xyz:\n",
    "        d.append(np.linalg.norm(i-origin, axis=1)) # Ions distances from the middle of the box\n",
    "    d = np.array(d).flatten()  # Return a copy of the array collapsed into one dimension\n",
    "    P, r = np.histogram(d, bins=bins) # Histogram of the distances\n",
    "    r=r[:-1]\n",
    "    dr = r[1]-r[0]\n",
    "    rho = P/(4*np.pi*r**2*dr) * to_mM / len(d) * len(sel)\n",
    "    return r, rho"
   ]
  },
  {
   "cell_type": "markdown",
   "metadata": {},
   "source": [
    "# Solution conditions"
   ]
  },
  {
   "cell_type": "code",
   "execution_count": 14,
   "metadata": {},
   "outputs": [],
   "source": [
    "####################################################\n",
    "Ions = {'Cl':{ 'pH': [2], 'r':[2.4, 2.6, 2.8, 3.0]},\n",
    "        'F': { 'pH': [2], 'r':[2.4, 2.6, 2.8, 3.0]}}\n",
    "####################################################\n",
    "\n",
    "##########################################################################\n",
    "Cp_range = [0.001, 0.002, 0.0040, 0.0070, 0.01, 0.015, 0.02, 0.025, 0.03]#\n",
    "##########################################################################\n",
    "\n",
    "Na = 6.022e23"
   ]
  },
  {
   "cell_type": "markdown",
   "metadata": {},
   "source": [
    "# Save MD density profiles"
   ]
  },
  {
   "cell_type": "code",
   "execution_count": 15,
   "metadata": {},
   "outputs": [
    {
     "name": "stdout",
     "output_type": "stream",
     "text": [
      "/Users/michael/Desktop/VCM_repo/Molecular_dynamics\n",
      "Profile already saved\n",
      "Profile already saved\n",
      "Profile already saved\n",
      "Profile already saved\n",
      "Profile already saved\n",
      "Profile already saved\n",
      "Profile already saved\n",
      "Profile already saved\n",
      "/Users/michael/Desktop/VCM_repo\n"
     ]
    }
   ],
   "source": [
    "%cd $workdir/Molecular_dynamics\n",
    "\n",
    "for name, prop in Ions.items():\n",
    "    for pH in prop ['pH']:\n",
    "        for r in prop ['r']:\n",
    "            for g in range(1):\n",
    "                path = str(name)+'/'+str(pH)+'/'+str(r)+'/'+str(g)+'/'\n",
    "                \n",
    "                if os.path.isfile(path+'density_P.rho'):\n",
    "                    print('Profile already saved')\n",
    "                \n",
    "                else:\n",
    "                    traj = md.load(path+'run.dcd', top=path+'../../Protein_'+str(name)+'.pdb')\n",
    "                    r_xtc, rho_xtc = densityProfile(traj, name, 2000) # Calculate density profiles use 2000 bins\n",
    "                    np.savetxt(path+'density_P.rho',np.c_[r_xtc,rho_xtc]) # Save density profiles \n",
    "                    print('Saving profile ...')\n",
    "\n",
    "%cd $workdir"
   ]
  },
  {
   "cell_type": "markdown",
   "metadata": {},
   "source": [
    "# Extract the pressure from MD simulations"
   ]
  },
  {
   "cell_type": "code",
   "execution_count": 17,
   "metadata": {},
   "outputs": [
    {
     "name": "stdout",
     "output_type": "stream",
     "text": [
      "                       Cl                     F\n",
      "2.4  [145.64898697709944]  [133.78387359092608]\n",
      "2.6  [108.71946496132556]  [100.44800290521027]\n",
      "2.8   [81.09104655808306]   [78.05110972710412]\n",
      "3.0   [66.95577350252137]   [64.95219930340302]\n",
      "                        Cl                     F\n",
      "2.4   [-55.09149123099931]  [-66.95660461717267]\n",
      "2.6   [-49.16835768027413]  [-57.43981973638941]\n",
      "2.8  [-45.322782284334835]  [-48.36271911531378]\n",
      "3.0   [-35.82335134002517]  [-37.82692553914352]\n"
     ]
    }
   ],
   "source": [
    "p_osm_virtual_cell = {}\n",
    "p_osm_virtual_cell_excess = {}\n",
    "Cp_list = np.empty(0)\n",
    "##############################\n",
    "\n",
    "for name, prop in Ions.items():\n",
    "    p_osm_virtual_cell[str(name)] = {}\n",
    "    p_osm_virtual_cell_excess[str(name)] = {}\n",
    "    for pH in prop ['pH']:\n",
    "        for r in prop ['r']:\n",
    "            for g in range(1):\n",
    "                path = str(name)+'/'+str(pH)+'/'+str(r)+'/'+str(g)+'/'\n",
    "                \n",
    "                x, rho = np.loadtxt(workdir+'/Molecular_dynamics/'+path+'density_P.rho',unpack=True)\n",
    "                rdif = np.abs(x-float(r))\n",
    "                \n",
    "                p_osm_virtual_cell[str(name)][r] =  rho[rdif==rdif.min()]\n",
    "                V = 4/3 *np.pi * r**3\n",
    "                Cp = (1/V)*1e27/Na\n",
    "                if name=='Cl':\n",
    "                    Cp_list = np.append(Cp_list, Cp)\n",
    "                p_osm_virtual_cell_excess[str(name)][r] =  rho[rdif==rdif.min()]-7*Cp\n",
    "\n",
    "                \n",
    "p_osm_virtual_cell = pd.DataFrame(p_osm_virtual_cell)\n",
    "p_osm_virtual_cell_excess = pd.DataFrame(p_osm_virtual_cell_excess)\n",
    "Cp_list = np.array(Cp_list)\n",
    "print(p_osm_virtual_cell)\n",
    "print(p_osm_virtual_cell_excess)"
   ]
  },
  {
   "cell_type": "markdown",
   "metadata": {},
   "source": [
    "# Load pressure from MC simulations"
   ]
  },
  {
   "cell_type": "code",
   "execution_count": 19,
   "metadata": {},
   "outputs": [],
   "source": [
    "p_osm_cell = pd.read_csv('Monte_Carlo/p_osm_cell.csv')\n",
    "p_osm_cell_ex = pd.read_csv('Monte_Carlo/p_osm_cell_ex.csv')\n",
    "\n",
    "p_osm_cell_VVM = pd.read_csv('Monte_Carlo/p_osm_cell_VVM.csv')\n",
    "p_osm_cell_VVM_ex = pd.read_csv('Monte_Carlo/p_osm_cell_VVM_ex.csv')\n",
    "\n",
    "p_osm_cell_VVM_TB = pd.read_csv('Monte_Carlo/p_osm_cell_VVM_TB.csv')\n",
    "p_osm_cell_VVM_TB_ex = pd.read_csv('Monte_Carlo/p_osm_cell_VVM_TB_ex.csv')"
   ]
  },
  {
   "cell_type": "markdown",
   "metadata": {},
   "source": [
    "# Plot pressure comparison MC vs MD"
   ]
  },
  {
   "cell_type": "code",
   "execution_count": 20,
   "metadata": {},
   "outputs": [
    {
     "data": {
      "image/png": "[encoded data removed]",
      "text/plain": [
       "<Figure size 720x1008 with 2 Axes>"
      ]
     },
     "metadata": {
      "needs_background": "light"
     },
     "output_type": "display_data"
    }
   ],
   "source": [
    "f = plt.figure(figsize=(10,14))\n",
    "f.tight_layout()\n",
    "f.subplots_adjust(left=None, bottom=None, right=None, top=None, wspace=0, hspace=0.05)\n",
    "ax1 = f.add_subplot(211)\n",
    "######################################################################################\n",
    "markersize = 15\n",
    "fontsize = 20\n",
    "\n",
    "\n",
    "# MD\n",
    "ax1.plot(Cp_list/1000, p_osm_virtual_cell['Cl']/1000, 'bD', label='Cl$^{-}$', markersize=markersize)\n",
    "ax1.plot(Cp_list/1000, p_osm_virtual_cell['F']/1000, 'gD', label='F$^{-}$', markersize=markersize)\n",
    "ax1.set_ylabel('$P^{osm}/RT$ (mM)', fontsize=fontsize)       \n",
    "\n",
    "# MC\n",
    "ax1.plot(Cp_range, p_osm_cell['pH2'], 'k', marker='o',  markersize=markersize, linestyle=' ',markerfacecolor=\"None\", alpha=.5, label='Cl$^{-}$ (MC)')\n",
    "\n",
    "plt.setp(ax1.get_xticklabels(), visible=False)\n",
    "plt.setp(ax1, yticks=[0, 0.02, 0.04, 0.06, 0.08, 0.10, 0.12, 0.14, 0.16], yticklabels=['0', '20', '40', '60', '80', '100', '120', '140', '160'] ) \n",
    "\n",
    "plt.legend(loc=2, frameon=0)\n",
    "\n",
    "\n",
    "ax2 = f.add_subplot(212)\n",
    "ax2.plot(Cp_range, p_osm_cell_ex['pH2'], 'k', marker='o',  markersize=markersize, markerfacecolor=\"None\", linestyle=' ', alpha=.5)\n",
    "\n",
    "ax2.plot(Cp_list/1000, p_osm_virtual_cell_excess['Cl']/1000, 'bD', label='Cl$^{-}$', markersize=markersize)\n",
    "ax2.plot(Cp_list/1000, p_osm_virtual_cell_excess['F']/1000, 'gD', label='F$^{-}$', markersize=markersize)\n",
    "\n",
    "\n",
    "\n",
    "plt.setp(ax2, xticks=[0.001, 0.005, 0.010, 0.015, 0.020, 0.025, 0.030], xticklabels=['0', '5', '10', '15', '20', '25', '30'] ) \n",
    "plt.setp(ax2, yticks=[0, -0.01, -0.02, -0.03, -0.04, -0.05, -0.06, -0.07], yticklabels=['0', '-10', '-20', '-30', '-40', '-50', '-60', '-70'] ) \n",
    "ax2.set_xlabel('$c_p$ (mM)', fontsize=fontsize)\n",
    "ax2.set_ylabel('$P^{ex}/RT$ (mM)', fontsize=fontsize) \n",
    "ax2.set_xlim(0, 0.032)\n",
    "ax1.tick_params(labelsize=fontsize)\n",
    "ax2.tick_params(labelsize=fontsize)\n",
    "\n",
    "plt.savefig('MD_vs_MC_pressure.png', dpi= 300, bbox_inches='tight')"
   ]
  },
  {
   "cell_type": "code",
   "execution_count": null,
   "metadata": {},
   "outputs": [],
   "source": []
  }
 ],
 "metadata": {
  "kernelspec": {
   "display_name": "Python 3",
   "language": "python",
   "name": "python3"
  },
  "language_info": {
   "codemirror_mode": {
    "name": "ipython",
    "version": 3
   },
   "file_extension": ".py",
   "mimetype": "text/x-python",
   "name": "python",
   "nbconvert_exporter": "python",
   "pygments_lexer": "ipython3",
   "version": "3.7.3"
  }
 },
 "nbformat": 4,
 "nbformat_minor": 2
}
