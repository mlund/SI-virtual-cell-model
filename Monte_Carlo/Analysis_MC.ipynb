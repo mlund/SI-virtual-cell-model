{
 "cells": [
  {
   "cell_type": "markdown",
   "metadata": {},
   "source": [
    "# Monte Carlo simulations -  Analysis"
   ]
  },
  {
   "cell_type": "code",
   "execution_count": 1,
   "metadata": {},
   "outputs": [],
   "source": [
    "#Go in the working directory\n",
    "try:\n",
    "    workdir\n",
    "except NameError:\n",
    "    workdir=%pwd\n",
    "else:\n",
    "    %cd -q $workdir\n",
    "\n",
    "%cd -q $workdir/"
   ]
  },
  {
   "cell_type": "code",
   "execution_count": 2,
   "metadata": {},
   "outputs": [
    {
     "data": {
      "text/html": [
       "\n",
       "<style>\n",
       "    div#notebook-container    { width: 100%; }\n",
       "    div#menubar-container     { width: 100%; }\n",
       "    div#maintoolbar-container { width: 100%; }\n",
       "</style>\n"
      ],
      "text/plain": [
       "<IPython.core.display.HTML object>"
      ]
     },
     "metadata": {},
     "output_type": "display_data"
    }
   ],
   "source": [
    "import os, json\n",
    "import pandas as pd\n",
    "import numpy as np\n",
    "import matplotlib as mpl, matplotlib.pyplot as plt\n",
    "import matplotlib.image as mpimg\n",
    "from matplotlib.offsetbox import TextArea, DrawingArea, OffsetImage, AnnotationBbox\n",
    "from IPython.display import display, HTML\n",
    "display(HTML(data=\"\"\"\n",
    "<style>\n",
    "    div#notebook-container    { width: 100%; }\n",
    "    div#menubar-container     { width: 100%; }\n",
    "    div#maintoolbar-container { width: 100%; }\n",
    "</style>\n",
    "\"\"\"))\n",
    "\n",
    "plt.rcParams.update({'font.size':16,'legend.frameon':True,'figure.figsize':[12,8],'xtick.major.size':7,'ytick.major.size':7,'legend.labelspacing':1})"
   ]
  },
  {
   "cell_type": "markdown",
   "metadata": {},
   "source": [
    "# Functions"
   ]
  },
  {
   "cell_type": "code",
   "execution_count": 3,
   "metadata": {},
   "outputs": [],
   "source": [
    "Na = 6.022e23\n",
    "\n",
    "def Excess_pressure(jsonfile):\n",
    "    with open(jsonfile) as f:\n",
    "        d = json.load(f) # --> dict\n",
    "        out = d[\"analysis\"][5]['virtualvolume']['Pex/mM']\n",
    "        return out\n",
    "    \n",
    "def Cl_conc(jsonfile):\n",
    "    with open(jsonfile) as f:\n",
    "        d = json.load(f) # --> dict\n",
    "        if \"density\" in d[\"analysis\"][1]:\n",
    "            out = d[\"analysis\"][1]['density']['atomic']['Cl']['c/M']\n",
    "        else:\n",
    "            out = d[\"analysis\"][0]['density']['atomic']['Cl']['c/M']\n",
    "        return out"
   ]
  },
  {
   "cell_type": "markdown",
   "metadata": {},
   "source": [
    "# Solution conditions"
   ]
  },
  {
   "cell_type": "code",
   "execution_count": 4,
   "metadata": {},
   "outputs": [],
   "source": [
    "###################################\n",
    "pHs = {'pH2': { 'pH': [2],  'N':7},\n",
    "       'pH5': { 'pH': [5],  'N':3},\n",
    "      }\n",
    "###################################\n",
    "\n",
    "##########################################################################\n",
    "Cp_range = [0.001, 0.002, 0.0040, 0.0070, 0.01, 0.015, 0.02, 0.025, 0.03]#\n",
    "##########################################################################"
   ]
  },
  {
   "cell_type": "markdown",
   "metadata": {},
   "source": [
    "# Extract the pressure cell boundary - One body - MC"
   ]
  },
  {
   "cell_type": "code",
   "execution_count": 5,
   "metadata": {},
   "outputs": [
    {
     "name": "stdout",
     "output_type": "stream",
     "text": [
      "Data exist! Loaded!\n"
     ]
    }
   ],
   "source": [
    "# Load data if they exist \n",
    "if os.path.isfile('p_osm_cell.csv') and  os.path.isfile('p_osm_cell_ex.csv'):\n",
    "    p_osm_cell = pd.read_csv('p_osm_cell.csv')\n",
    "    p_osm_cell_ex = pd.read_csv('p_osm_cell_ex.csv')\n",
    "    print('Data exist! Loaded!')\n",
    "\n",
    "# Otherwise extract them and save\n",
    "else:\n",
    "    print('Data do not exist! Extracting ...')\n",
    "\n",
    "    p_osm_cell = {}\n",
    "    p_osm_cell_ex = {}\n",
    "\n",
    "    for name, prop in pHs.items():\n",
    "        p_osm_cell[str(name)] = {}\n",
    "        p_osm_cell_ex[str(name)] = {}\n",
    "        for pH in prop ['pH']:\n",
    "            for Cp in Cp_range:\n",
    "                path = '/One_body/'+str(name)+'/'+str(pH)+'/'+str(Cp)+'/'\n",
    "\n",
    "\n",
    "\n",
    "                rho_Cl = np.loadtxt(workdir+path+'/Cl_profile.txt',unpack=True, usecols=(2))\n",
    "                p_osm_cell[str(name)][Cp] = rho_Cl[-2] # This is in Molar\n",
    "                p_osm_cell_ex[str(name)][Cp] = rho_Cl[-2]-prop['N'] * Cp # This is in Molar\n",
    "\n",
    "\n",
    "\n",
    "    p_osm_cell = pd.DataFrame(p_osm_cell)\n",
    "    p_osm_cell_ex = pd.DataFrame(p_osm_cell_ex)\n",
    "    p_osm_cell.to_csv('p_osm_cell.csv')\n",
    "    p_osm_cell_ex.to_csv('p_osm_cell_ex.csv')\n",
    "    print(p_osm_cell)\n",
    "    print(p_osm_cell_ex)"
   ]
  },
  {
   "cell_type": "markdown",
   "metadata": {},
   "source": [
    "# Extract the pressure from VVM - One Body"
   ]
  },
  {
   "cell_type": "code",
   "execution_count": 6,
   "metadata": {
    "scrolled": true
   },
   "outputs": [
    {
     "name": "stdout",
     "output_type": "stream",
     "text": [
      "Data do not exist! Extracting ...\n",
      "            pH2       pH5\n",
      "0.001  0.005308  0.002634\n",
      "0.002  0.010136  0.005090\n",
      "0.004  0.019497  0.009803\n",
      "0.007  0.033537  0.016672\n",
      "0.010  0.047720  0.023496\n",
      "0.015  0.072433  0.035035\n",
      "0.020  0.098833  0.046915\n",
      "0.025  0.127025  0.059567\n",
      "0.030  0.157430  0.073178\n",
      "            pH2       pH5\n",
      "0.001 -0.001692 -0.000366\n",
      "0.002 -0.003864 -0.000910\n",
      "0.004 -0.008503 -0.002197\n",
      "0.007 -0.015463 -0.004328\n",
      "0.010 -0.022280 -0.006504\n",
      "0.015 -0.032567 -0.009965\n",
      "0.020 -0.041167 -0.013085\n",
      "0.025 -0.047975 -0.015433\n",
      "0.030 -0.052570 -0.016822\n"
     ]
    }
   ],
   "source": [
    "# Load data if they exist \n",
    "%cd -q $workdir/\n",
    "\n",
    "if os.path.isfile('p_osm_cell_VVM.csv') and  os.path.isfile('p_osm_cell_VVM_ex.csv'):\n",
    "    p_osm_cell_VVM = pd.read_csv('p_osm_cell_VVM.csv')\n",
    "    p_osm_cell_VVM_ex = pd.read_csv('p_osm_cell_VVM_ex.csv')\n",
    "    print('Data exist! Loaded!')\n",
    "\n",
    "# Otherwise extract them and save\n",
    "else:\n",
    "    print('Data do not exist! Extracting ...')\n",
    "\n",
    "    p_osm_cell_VVM = {}\n",
    "    p_osm_cell_VVM_ex = {}\n",
    "\n",
    "    for name, prop in pHs.items():\n",
    "        p_osm_cell_VVM[str(name)] = {}\n",
    "        p_osm_cell_VVM_ex[str(name)] = {}\n",
    "        for pH in prop ['pH']:\n",
    "            for Cp in Cp_range:\n",
    "                path = '/One_body/'+str(name)+'/'+str(pH)+'/'+str(Cp)+'/'\n",
    "\n",
    "                Z = prop['N']\n",
    "\n",
    "                #excess = np.loadtxt(workdir+path+'pex.out', usecols=(3), unpack= True, skiprows=0)\n",
    "                #p_excess_cell_VVM = (np.log(np.mean(excess))/0.1)*1e27/Na # 1e27/Na is to convert from A^(-3) to Molar\n",
    "                excess = Excess_pressure(workdir+path+'out.json')\n",
    "                p_excess_cell_VVM = excess/1000 # 1e27/Na is to convert from A^(-3) to Molar\n",
    "                #print(excess)\n",
    "\n",
    "\n",
    "                p_ideal_cell_VVM =  Z * Cp\n",
    "                #p_ideal_cell_VVM =  Cl_conc(workdir+path+'out.json') # Equivalent to Z *Cp\n",
    "\n",
    "                p_osm_cell_VVM[str(name)][Cp] = p_excess_cell_VVM + p_ideal_cell_VVM # This is in Molar\n",
    "                p_osm_cell_VVM_ex[str(name)][Cp] = p_excess_cell_VVM # This is in Molar\n",
    "\n",
    "                #print('pH '+str(pH)+' - Cp = '+str(round(Cp*1000))+ 'mM - Done!')\n",
    "\n",
    "\n",
    "    p_osm_cell_VVM = pd.DataFrame(p_osm_cell_VVM)\n",
    "    p_osm_cell_VVM_ex = pd.DataFrame(p_osm_cell_VVM_ex)\n",
    "    print(p_osm_cell_VVM) \n",
    "    print(p_osm_cell_VVM_ex)\n",
    "    p_osm_cell_VVM.to_csv('p_osm_cell_VVM.csv')\n",
    "    p_osm_cell_VVM_ex.to_csv('p_osm_cell_VVM_ex.csv')"
   ]
  },
  {
   "cell_type": "markdown",
   "metadata": {},
   "source": [
    "# Extract the pressure from VVM - Two Body"
   ]
  },
  {
   "cell_type": "code",
   "execution_count": 7,
   "metadata": {},
   "outputs": [
    {
     "name": "stdout",
     "output_type": "stream",
     "text": [
      "/Users/mikael/github/SI-virtual-cell-model/Monte_Carlo\n",
      "Data do not exist! Extracting ...\n"
     ]
    },
    {
     "ename": "OSError",
     "evalue": "/Users/mikael/github/SI-virtual-cell-model/Monte_Carlo/Two_body/pH2/2/0.001/pex.out not found.",
     "output_type": "error",
     "traceback": [
      "\u001b[0;31m---------------------------------------------------------------------------\u001b[0m",
      "\u001b[0;31mOSError\u001b[0m                                   Traceback (most recent call last)",
      "\u001b[0;32m<ipython-input-7-3ad9c844c10f>\u001b[0m in \u001b[0;36m<module>\u001b[0;34m\u001b[0m\n\u001b[1;32m     24\u001b[0m                 \u001b[0mp_ideal_cell_VVM_TB\u001b[0m \u001b[0;34m=\u001b[0m  \u001b[0mCl_conc\u001b[0m\u001b[0;34m(\u001b[0m\u001b[0mworkdir\u001b[0m\u001b[0;34m+\u001b[0m\u001b[0mpath\u001b[0m\u001b[0;34m+\u001b[0m\u001b[0;34m'out.json'\u001b[0m\u001b[0;34m)\u001b[0m \u001b[0;31m# Equivalent to Z *Cp\u001b[0m\u001b[0;34m\u001b[0m\u001b[0;34m\u001b[0m\u001b[0m\n\u001b[1;32m     25\u001b[0m \u001b[0;34m\u001b[0m\u001b[0m\n\u001b[0;32m---> 26\u001b[0;31m                 \u001b[0mexcess\u001b[0m \u001b[0;34m=\u001b[0m \u001b[0mnp\u001b[0m\u001b[0;34m.\u001b[0m\u001b[0mloadtxt\u001b[0m\u001b[0;34m(\u001b[0m\u001b[0mworkdir\u001b[0m\u001b[0;34m+\u001b[0m\u001b[0mpath\u001b[0m\u001b[0;34m+\u001b[0m\u001b[0;34m'pex.out'\u001b[0m\u001b[0;34m,\u001b[0m \u001b[0musecols\u001b[0m\u001b[0;34m=\u001b[0m\u001b[0;34m(\u001b[0m\u001b[0;36m3\u001b[0m\u001b[0;34m)\u001b[0m\u001b[0;34m,\u001b[0m \u001b[0munpack\u001b[0m\u001b[0;34m=\u001b[0m \u001b[0;32mTrue\u001b[0m\u001b[0;34m,\u001b[0m \u001b[0mskiprows\u001b[0m\u001b[0;34m=\u001b[0m\u001b[0;36m0\u001b[0m\u001b[0;34m)\u001b[0m\u001b[0;34m\u001b[0m\u001b[0;34m\u001b[0m\u001b[0m\n\u001b[0m\u001b[1;32m     27\u001b[0m                 \u001b[0mp_excess_cell_VVM_TB\u001b[0m \u001b[0;34m=\u001b[0m \u001b[0;34m(\u001b[0m\u001b[0mnp\u001b[0m\u001b[0;34m.\u001b[0m\u001b[0mlog\u001b[0m\u001b[0;34m(\u001b[0m\u001b[0mnp\u001b[0m\u001b[0;34m.\u001b[0m\u001b[0mmean\u001b[0m\u001b[0;34m(\u001b[0m\u001b[0mexcess\u001b[0m\u001b[0;34m)\u001b[0m\u001b[0;34m)\u001b[0m\u001b[0;34m/\u001b[0m\u001b[0;36m0.1\u001b[0m\u001b[0;34m)\u001b[0m\u001b[0;34m*\u001b[0m\u001b[0;36m1e27\u001b[0m\u001b[0;34m/\u001b[0m\u001b[0mNa\u001b[0m \u001b[0;31m# 1e27/Na is to convert from A^(-3) to Molar\u001b[0m\u001b[0;34m\u001b[0m\u001b[0;34m\u001b[0m\u001b[0m\n\u001b[1;32m     28\u001b[0m \u001b[0;34m\u001b[0m\u001b[0m\n",
      "\u001b[0;32m~/miniconda3/lib/python3.8/site-packages/numpy/lib/npyio.py\u001b[0m in \u001b[0;36mloadtxt\u001b[0;34m(fname, dtype, comments, delimiter, converters, skiprows, usecols, unpack, ndmin, encoding, max_rows)\u001b[0m\n\u001b[1;32m    959\u001b[0m             \u001b[0mfname\u001b[0m \u001b[0;34m=\u001b[0m \u001b[0mos_fspath\u001b[0m\u001b[0;34m(\u001b[0m\u001b[0mfname\u001b[0m\u001b[0;34m)\u001b[0m\u001b[0;34m\u001b[0m\u001b[0;34m\u001b[0m\u001b[0m\n\u001b[1;32m    960\u001b[0m         \u001b[0;32mif\u001b[0m \u001b[0m_is_string_like\u001b[0m\u001b[0;34m(\u001b[0m\u001b[0mfname\u001b[0m\u001b[0;34m)\u001b[0m\u001b[0;34m:\u001b[0m\u001b[0;34m\u001b[0m\u001b[0;34m\u001b[0m\u001b[0m\n\u001b[0;32m--> 961\u001b[0;31m             \u001b[0mfh\u001b[0m \u001b[0;34m=\u001b[0m \u001b[0mnp\u001b[0m\u001b[0;34m.\u001b[0m\u001b[0mlib\u001b[0m\u001b[0;34m.\u001b[0m\u001b[0m_datasource\u001b[0m\u001b[0;34m.\u001b[0m\u001b[0mopen\u001b[0m\u001b[0;34m(\u001b[0m\u001b[0mfname\u001b[0m\u001b[0;34m,\u001b[0m \u001b[0;34m'rt'\u001b[0m\u001b[0;34m,\u001b[0m \u001b[0mencoding\u001b[0m\u001b[0;34m=\u001b[0m\u001b[0mencoding\u001b[0m\u001b[0;34m)\u001b[0m\u001b[0;34m\u001b[0m\u001b[0;34m\u001b[0m\u001b[0m\n\u001b[0m\u001b[1;32m    962\u001b[0m             \u001b[0mfencoding\u001b[0m \u001b[0;34m=\u001b[0m \u001b[0mgetattr\u001b[0m\u001b[0;34m(\u001b[0m\u001b[0mfh\u001b[0m\u001b[0;34m,\u001b[0m \u001b[0;34m'encoding'\u001b[0m\u001b[0;34m,\u001b[0m \u001b[0;34m'latin1'\u001b[0m\u001b[0;34m)\u001b[0m\u001b[0;34m\u001b[0m\u001b[0;34m\u001b[0m\u001b[0m\n\u001b[1;32m    963\u001b[0m             \u001b[0mfh\u001b[0m \u001b[0;34m=\u001b[0m \u001b[0miter\u001b[0m\u001b[0;34m(\u001b[0m\u001b[0mfh\u001b[0m\u001b[0;34m)\u001b[0m\u001b[0;34m\u001b[0m\u001b[0;34m\u001b[0m\u001b[0m\n",
      "\u001b[0;32m~/miniconda3/lib/python3.8/site-packages/numpy/lib/_datasource.py\u001b[0m in \u001b[0;36mopen\u001b[0;34m(path, mode, destpath, encoding, newline)\u001b[0m\n\u001b[1;32m    193\u001b[0m \u001b[0;34m\u001b[0m\u001b[0m\n\u001b[1;32m    194\u001b[0m     \u001b[0mds\u001b[0m \u001b[0;34m=\u001b[0m \u001b[0mDataSource\u001b[0m\u001b[0;34m(\u001b[0m\u001b[0mdestpath\u001b[0m\u001b[0;34m)\u001b[0m\u001b[0;34m\u001b[0m\u001b[0;34m\u001b[0m\u001b[0m\n\u001b[0;32m--> 195\u001b[0;31m     \u001b[0;32mreturn\u001b[0m \u001b[0mds\u001b[0m\u001b[0;34m.\u001b[0m\u001b[0mopen\u001b[0m\u001b[0;34m(\u001b[0m\u001b[0mpath\u001b[0m\u001b[0;34m,\u001b[0m \u001b[0mmode\u001b[0m\u001b[0;34m,\u001b[0m \u001b[0mencoding\u001b[0m\u001b[0;34m=\u001b[0m\u001b[0mencoding\u001b[0m\u001b[0;34m,\u001b[0m \u001b[0mnewline\u001b[0m\u001b[0;34m=\u001b[0m\u001b[0mnewline\u001b[0m\u001b[0;34m)\u001b[0m\u001b[0;34m\u001b[0m\u001b[0;34m\u001b[0m\u001b[0m\n\u001b[0m\u001b[1;32m    196\u001b[0m \u001b[0;34m\u001b[0m\u001b[0m\n\u001b[1;32m    197\u001b[0m \u001b[0;34m\u001b[0m\u001b[0m\n",
      "\u001b[0;32m~/miniconda3/lib/python3.8/site-packages/numpy/lib/_datasource.py\u001b[0m in \u001b[0;36mopen\u001b[0;34m(self, path, mode, encoding, newline)\u001b[0m\n\u001b[1;32m    533\u001b[0m                                       encoding=encoding, newline=newline)\n\u001b[1;32m    534\u001b[0m         \u001b[0;32melse\u001b[0m\u001b[0;34m:\u001b[0m\u001b[0;34m\u001b[0m\u001b[0;34m\u001b[0m\u001b[0m\n\u001b[0;32m--> 535\u001b[0;31m             \u001b[0;32mraise\u001b[0m \u001b[0mIOError\u001b[0m\u001b[0;34m(\u001b[0m\u001b[0;34m\"%s not found.\"\u001b[0m \u001b[0;34m%\u001b[0m \u001b[0mpath\u001b[0m\u001b[0;34m)\u001b[0m\u001b[0;34m\u001b[0m\u001b[0;34m\u001b[0m\u001b[0m\n\u001b[0m\u001b[1;32m    536\u001b[0m \u001b[0;34m\u001b[0m\u001b[0m\n\u001b[1;32m    537\u001b[0m \u001b[0;34m\u001b[0m\u001b[0m\n",
      "\u001b[0;31mOSError\u001b[0m: /Users/mikael/github/SI-virtual-cell-model/Monte_Carlo/Two_body/pH2/2/0.001/pex.out not found."
     ]
    }
   ],
   "source": [
    "# Load data if they exist \n",
    "%cd -q $workdir/\n",
    "\n",
    "if os.path.isfile('p_osm_cell_VVM_TB.csv') and  os.path.isfile('p_osm_cell_VVM_TB_ex.csv'):\n",
    "    p_osm_cell_VVM_TB = pd.read_csv('p_osm_cell_VVM_TB.csv')\n",
    "    p_osm_cell_VVM_TB_ex = pd.read_csv('p_osm_cell_VVM_TB_ex.csv')\n",
    "    print('Data exist! Loaded!')\n",
    "\n",
    "# Otherwise extract them and save\n",
    "else:\n",
    "    print('Data do not exist! Extracting ...')\n",
    "    p_osm_cell_VVM_TB = {}\n",
    "    p_osm_cell_VVM_TB_ex = {}\n",
    "\n",
    "    for name, prop in pHs.items():\n",
    "        p_osm_cell_VVM_TB[str(name)] = {}\n",
    "        p_osm_cell_VVM_TB_ex[str(name)] = {}\n",
    "        for pH in prop ['pH']:\n",
    "            for Cp in Cp_range:\n",
    "                path = '/Two_body/'+str(name)+'/'+str(pH)+'/'+str(Cp)+'/'\n",
    "\n",
    "                Z = prop['N']\n",
    "                #p_ideal_cell_VVM_TB =  Z * Cp\n",
    "                p_ideal_cell_VVM_TB =  Cl_conc(workdir+path+'out.json') # Equivalent to Z *Cp        \n",
    "\n",
    "                excess = np.loadtxt(workdir+path+'pex.out', usecols=(3), unpack= True, skiprows=0)\n",
    "                p_excess_cell_VVM_TB = (np.log(np.mean(excess))/0.1)*1e27/Na # 1e27/Na is to convert from A^(-3) to Molar\n",
    "\n",
    "                p_osm_cell_VVM_TB[str(name)][Cp] = p_excess_cell_VVM_TB + p_ideal_cell_VVM_TB # This is in Molar\n",
    "                p_osm_cell_VVM_TB_ex[str(name)][Cp] = p_excess_cell_VVM_TB  # This is in Molar\n",
    "\n",
    "                #print('pH '+str(pH)+' - Cp = '+str(round(Cp*1000))+ 'mM - Done!')\n",
    "\n",
    "\n",
    "    p_osm_cell_VVM_TB = pd.DataFrame(p_osm_cell_VVM_TB)\n",
    "    p_osm_cell_VVM_TB_ex = pd.DataFrame(p_osm_cell_VVM_TB_ex)\n",
    "    print(p_osm_cell_VVM_TB) \n",
    "    print(p_osm_cell_VVM_TB_ex) \n",
    "    p_osm_cell_VVM_TB.to_csv('p_osm_cell_VVM_TB.csv')\n",
    "    p_osm_cell_VVM_TB_ex.to_csv('p_osm_cell_VVM_TB_ex.csv')"
   ]
  },
  {
   "cell_type": "markdown",
   "metadata": {},
   "source": [
    "# Pressure plot"
   ]
  },
  {
   "cell_type": "code",
   "execution_count": null,
   "metadata": {},
   "outputs": [],
   "source": [
    "f = plt.figure(figsize=(10,14))\n",
    "f.tight_layout()\n",
    "f.subplots_adjust(left=None, bottom=None, right=None, top=None, wspace=0, hspace=0.05)\n",
    "\n",
    "fontsize = 22 \n",
    "\n",
    "ax1 = f.add_subplot(211)\n",
    "ax1.plot(Cp_range, p_osm_cell['pH2'], 'brown', marker='o',  markersize=15, linestyle=' ',markerfacecolor=\"None\", alpha=1, label='One body (Boundary density)')\n",
    "ax1.plot(Cp_range, p_osm_cell_VVM['pH2'], 'brown', marker='o', markersize=15, linestyle=' ', alpha=1, label='One body (VVM)')\n",
    "ax1.plot(Cp_range, p_osm_cell_VVM_TB['pH2'], 'brown', marker='s', markersize=15, linestyle=' ', alpha=1, label='Two body (VVM)')\n",
    "\n",
    "ax1.plot(Cp_range, p_osm_cell['pH5'], 'b', marker='o',  markersize=15, linestyle=' ', markerfacecolor=\"None\", alpha=1)#, label='pH 5 - One body (Boundary density)')\n",
    "ax1.plot(Cp_range, p_osm_cell_VVM['pH5'], 'b', marker='o', markersize=15, linestyle=' ', alpha=1)#, label='pH 5 - One body (VVM)')\n",
    "ax1.plot(Cp_range, p_osm_cell_VVM_TB['pH5'], 'b', marker='s',  markersize=15, linestyle=' ', alpha=1)#, label='pH 5 - Two body (VVM)')\n",
    "\n",
    "ax1.set_ylabel('$P^{osm}/RT$ (mM)', fontsize=fontsize)       \n",
    "plt.setp(ax1.get_xticklabels(), visible=False)\n",
    "plt.setp(ax1, yticks=[0, 0.02, 0.04, 0.06, 0.08, 0.10, 0.12, 0.14, 0.16], yticklabels=['0', '20', '40', '60', '80', '100', '120', '140', '160'] ) \n",
    "\n",
    "plt.legend(loc=2, frameon=0, fontsize=fontsize)\n",
    "ax1.text(0.015, 0.085, r'pH 2', fontsize='large', color='brown', rotation=33)\n",
    "ax1.text(0.015, 0.045, r'pH 5', fontsize='large', color='blue', rotation=15)\n",
    "\n",
    "ax2 = f.add_subplot(212)\n",
    "ax2.plot(Cp_range, p_osm_cell_ex['pH2'], 'brown', marker='o',  markersize=15, markerfacecolor=\"None\", linestyle=' ', alpha=1)\n",
    "ax2.plot(Cp_range, p_osm_cell_VVM_ex['pH2'], 'brown', marker='o', markersize=15, linestyle=' ', alpha=1)\n",
    "ax2.plot(Cp_range, p_osm_cell_VVM_TB_ex['pH2'], 'brown', marker='s', markersize=15, linestyle=' ', alpha=1)\n",
    "\n",
    "ax2.plot(Cp_range, p_osm_cell_ex['pH5'], 'b', marker='o',  markersize=15, markerfacecolor=\"None\", linestyle=' ', alpha=1)\n",
    "ax2.plot(Cp_range, p_osm_cell_VVM_ex['pH5'], 'b', marker='o', markersize=15, linestyle=' ', alpha=1)\n",
    "ax2.plot(Cp_range, p_osm_cell_VVM_TB_ex['pH5'], 'b', marker='s',  markersize=15, linestyle=' ', alpha=1)\n",
    "plt.setp(ax2, xticks=[0.001, 0.005, 0.010, 0.015, 0.020, 0.025, 0.030], xticklabels=['0', '5', '10', '15', '20', '25', '30'] ) \n",
    "plt.setp(ax2, yticks=[0, -0.01, -0.02, -0.03, -0.04, -0.05, -0.06], yticklabels=['0', '-10', '-20', '-30', '-40', '-50', '-60'] ) \n",
    "ax2.set_xlabel('$c_p$ (mM)', fontsize=fontsize)\n",
    "ax2.set_ylabel('$P^{ex}/RT$ (mM)', fontsize=fontsize) \n",
    "ax2.set_xlim(0, 0.032)\n",
    "\n",
    "\n",
    "#imgsize=180,180\n",
    "#im1 = Image.open('fig.png')\n",
    "#im1.thumbnail(imgsize, Image.ANTIALIAS)\n",
    "#f.figimage(X=np.array(im1).astype(np.float)/255, xo=100, yo=70, resize=False, zorder=10)\n",
    "cell_pic = mpimg.imread('fig.png')\n",
    "\n",
    "imagebox = OffsetImage(cell_pic, zoom=0.15 )\n",
    "\n",
    "ab = AnnotationBbox(imagebox, (0.006, -0.043), frameon=False)\n",
    "\n",
    "ax2.add_artist(ab)\n",
    "ax1.tick_params(labelsize=fontsize)\n",
    "ax2.tick_params(labelsize=fontsize)\n",
    "plt.savefig('MC_Pressure.png', frameone=True, bbox_inches='tight', dpi=300)"
   ]
  },
  {
   "cell_type": "code",
   "execution_count": null,
   "metadata": {},
   "outputs": [],
   "source": []
  }
 ],
 "metadata": {
  "kernelspec": {
   "display_name": "Python 3",
   "language": "python",
   "name": "python3"
  },
  "language_info": {
   "codemirror_mode": {
    "name": "ipython",
    "version": 3
   },
   "file_extension": ".py",
   "mimetype": "text/x-python",
   "name": "python",
   "nbconvert_exporter": "python",
   "pygments_lexer": "ipython3",
   "version": "3.8.5"
  }
 },
 "nbformat": 4,
 "nbformat_minor": 2
}
