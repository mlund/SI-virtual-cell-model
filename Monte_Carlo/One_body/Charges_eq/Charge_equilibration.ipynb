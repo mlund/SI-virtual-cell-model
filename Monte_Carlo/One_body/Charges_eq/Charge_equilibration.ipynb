{
 "cells": [
  {
   "cell_type": "markdown",
   "metadata": {},
   "source": [
    "# One-body - Protein charges equilibration"
   ]
  },
  {
   "cell_type": "code",
   "execution_count": null,
   "metadata": {},
   "outputs": [],
   "source": [
    "#Go in the working directory\n",
    "\n",
    "try:\n",
    "    workdir\n",
    "except NameError:\n",
    "    workdir=%pwd\n",
    "else:\n",
    "    %cd -q $workdir\n",
    "\n",
    "%cd $workdir/"
   ]
  },
  {
   "cell_type": "code",
   "execution_count": null,
   "metadata": {},
   "outputs": [],
   "source": [
    "# Import packages\n",
    "\n",
    "import os\n",
    "import json\n",
    "import numpy as np\n",
    "import matplotlib as mpl, matplotlib.pyplot as plt\n",
    "import matplotlib.image as mpimg\n",
    "from matplotlib.offsetbox import TextArea, DrawingArea, OffsetImage, AnnotationBbox\n",
    "from IPython.display import display, HTML\n",
    "display(HTML(data=\"\"\"\n",
    "<style>\n",
    "    div#notebook-container    { width: 100%; }\n",
    "    div#menubar-container     { width: 100%; }\n",
    "    div#maintoolbar-container { width: 100%; }\n",
    "</style>\n",
    "\"\"\"))\n",
    "\n",
    "plt.rcParams.update({'font.size':16,'legend.frameon':True,'figure.figsize':[12,8],'xtick.major.size':7,'ytick.major.size':7,'legend.labelspacing':1})"
   ]
  },
  {
   "cell_type": "markdown",
   "metadata": {},
   "source": [
    "# Protein charge equilibration"
   ]
  },
  {
   "cell_type": "code",
   "execution_count": null,
   "metadata": {
    "scrolled": true
   },
   "outputs": [],
   "source": [
    "def mkinput():\n",
    "    js = {\"temperature\": 298.15,\n",
    "             \"geometry\": {\"type\":\"sphere\", \"radius\": r}, \n",
    "               \"mcloop\": {\"macro\": macro, \"micro\": micro},\n",
    "               \"random\": {\"seed\": \"hardware\"},\n",
    "               \"energy\": [{\"nonbonded_coulomblj\": \n",
    "                                 {\"lennardjones\": {\"mixing\": \"LB\"},\n",
    "                                      \"coulomb\": {\"type\":\"plain\",\"epsr\": 78.7}}}\n",
    "                         ],\n",
    "\n",
    "               \"atomlist\": [\n",
    "                ###################\n",
    "                #### TERMINALS ####\n",
    "                ###################\n",
    "                {\"CTR\": {\"mw\": 16.0,\"sigma\": 3.13,\"eps\": eps,\"q\": -1}},\n",
    "                {\"HCTR\": {\"mw\": 16.0,\"sigma\": 3.13,\"eps\": eps,\"q\": 0}},\n",
    "                {\"NTR\": {\"mw\": 14.0,\"sigma\": 2.99,\"eps\": eps,\"q\": 0}},\n",
    "                {\"HNTR\": {\"mw\": 14.0,\"sigma\": 2.99,\"eps\": eps,\"q\": 1}},\n",
    "                ###################\n",
    "                ####Hydrophobic####\n",
    "                ###################\n",
    "                {\"ALA\": {\"mw\": 66.0,\"sigma\": 5.02,\"eps\": eps,\"q\": 0}},\n",
    "                {\"ILE\": {\"mw\": 102.0,\"sigma\": 5.8,\"eps\": eps,\"q\": 0}},\n",
    "                {\"LEU\": {\"mw\": 102.0,\"sigma\": 5.8,\"eps\": eps,\"q\": 0}},\n",
    "                {\"MET\": {\"mw\": 122.0,\"sigma\": 6.16,\"eps\": eps,\"q\": 0}},\n",
    "                {\"PHE\": {\"mw\": 138.0,\"sigma\": 6.41,\"eps\": eps,\"q\": 0}},\n",
    "                {\"VAL\": {\"mw\": 90.0,\"sigma\": 5.56,\"eps\": eps,\"q\": 0}},\n",
    "                {\"PRO\": {\"mw\": 90.0,\"sigma\": 5.56,\"eps\": eps,\"q\": 0}},\n",
    "                {\"GLY\": {\"mw\": 54.0,\"sigma\": 4.69,\"eps\": eps,\"q\": 0}},\n",
    "                #########################\n",
    "                #### Not Hydrophobic ####\n",
    "                #########################\n",
    "                {\"ARG\": {\"mw\": 144.0,\"sigma\": 6.50,\"eps\": eps,\"q\": 0}},\n",
    "                {\"HARG\": {\"mw\": 144.0,\"sigma\": 6.50,\"eps\": eps,\"q\": 1}},\n",
    "                {\"LYS\": {\"mw\": 116.0,\"sigma\": 6.05,\"eps\": eps,\"q\": 0}},\n",
    "                {\"HLYS\": {\"mw\": 116.0,\"sigma\": 6.05,\"eps\": eps,\"q\": 1}},\n",
    "                {\"ASP\": {\"mw\": 110.0,\"sigma\": 5.94,\"eps\": eps,\"q\": -1}},\n",
    "                {\"HASP\": {\"mw\": 110.0,\"sigma\": 5.94,\"eps\": eps,\"q\": 0}},\n",
    "                {\"LASP\": {\"mw\": 110.0,\"sigma\": 5.94,\"eps\": eps,\"q\": 2}},\n",
    "                {\"GLU\": {\"mw\": 122.0,\"sigma\": 6.16,\"eps\": eps,\"q\": -1}},\n",
    "                {\"HGLU\": {\"mw\": 122.0,\"sigma\": 6.16,\"eps\": eps,\"q\": 0}},\n",
    "                {\"LGLU\": {\"mw\": 122.0,\"sigma\": 6.16,\"eps\": eps,\"q\": 2}},\n",
    "                {\"GLN\": {\"mw\": 120.0,\"sigma\": 6.12,\"eps\": eps,\"q\": 0}},\n",
    "                {\"ASN\": {\"mw\": 108.0,\"sigma\": 5.91,\"eps\": eps,\"q\": 0}},\n",
    "                {\"HIS\": {\"mw\": 130.0,\"sigma\": 6.29,\"eps\": eps,\"q\": 0}},\n",
    "                {\"HHIS\": {\"mw\": 130.0,\"sigma\": 6.29,\"eps\": eps,\"q\": 1}},\n",
    "                {\"SER\": {\"mw\": 82.0,\"sigma\": 5.39,\"eps\": eps,\"q\": 0}},\n",
    "                {\"THR\": {\"mw\": 94.0,\"sigma\": 5.64,\"eps\": eps,\"q\": 0}},\n",
    "                {\"TYR\": {\"mw\": 154.0, \"sigma\": 6.65,\"eps\": eps, \"q\": -1}},\n",
    "                {\"HTYR\": {\"mw\": 154.0,\"sigma\": 6.65,\"eps\": eps,\"q\": 0}},\n",
    "                {\"CYS\": {\"mw\": 103.0,\"sigma\": 5.72,\"eps\": eps,\"q\": -1}},\n",
    "                {\"HCYS\":{\"mw\": 103.0,\"sigma\": 5.72,\"eps\": eps,\"q\": 0}},\n",
    "                {\"CYX\": {\"mw\": 103.0,\"sigma\": 5.72,\"eps\": eps,\"q\": 0}},\n",
    "                {\"TRP\": {\"mw\": 176.0,\"sigma\": 6.95,\"eps\": eps,\"q\": 0}},\n",
    "                {\"H\": {\"pactivity\": pH, \"implicit\": True } }\n",
    "                    ],\n",
    "          \n",
    "       \n",
    "          \"moleculelist\": [{\"protein\": {\"structure\": Input, \"insdir\":[0,0,0], \"insoffset\":[0,0,0], \"keepcharges\":False, 'rotate': False, 'keeppos':False, 'rigid':False}},\n",
    "                          ],\n",
    "          \n",
    "          \"insertmolecules\": [{\"protein\": {\"N\": 1, \"inactive\": False }}\n",
    "                             ],\n",
    "          \n",
    "          \"reactionlist\": [ {\"HCTR = CTR + H\": {\"pK\": 3.67} },     \n",
    "                            {\"HASP = ASP + H\": {\"pK\": 3.67} },\n",
    "                            {\"HGLU = GLU + H\": {\"pK\": 4.25} },\n",
    "                            {\"HHIS = HIS + H\": {\"pK\": 6.54} },\n",
    "                            {\"HNTR = NTR + H\": {\"pK\": 8.0} }, \n",
    "                            {\"HCYS = CYS + H\": {\"pK\": 8.55} },\n",
    "                            {\"HTYR = TYR + H\": {\"pK\": 9.84} }, \n",
    "                            {\"HLYS = LYS + H\": {\"pK\": 10.4} },\n",
    "                            {\"HARG = ARG + H\": {\"pK\": 12.0} } ],\n",
    "          \n",
    "          \"moves\": \n",
    "                [{\"rcmc\": {\"repeat\":10} },\n",
    "                ],\n",
    "                 \n",
    "\n",
    "          \"analysis\": [\n",
    "            # Save the last charge configuration\n",
    "            {\"savestate\": {\"file\": \"confout_eq.pqr\"} }, \n",
    "\n",
    "            #Total charge as a function of the number of steps\n",
    "            {\"reactioncoordinate\": {\"file\": \"Q_protein.dat\", \"nstep\":1, \"type\": \"molecule\", \"index\": 0, \"property\": \"Q\", 'nskip': nskip}},\n",
    "           \n",
    "            ]}  \n",
    "\n",
    "    with open('input.json', 'w') as f:\n",
    "        json.dump(js, f, indent=4)\n",
    "\n",
    "\n",
    "###################################################################\n",
    "pHs = {'pH2': { 'pH': [2],  'input':workdir+'/../../PPI40_cg.pqr'},\n",
    "       'pH5': { 'pH': [5],  'input':workdir+'/../../PPI40_cg.pqr'} \n",
    "      }\n",
    "###################################################################\n",
    "\n",
    "#LJ parameters                                                                                                                                       \n",
    "eps = 0.12395 # epsilon for not hydrophobic in kJ/mol equal to 0.05 kT  \n",
    "\n",
    "# Radius\n",
    "r =30 \n",
    "                                                                                                         \n",
    "# Steps                                                                                                         \n",
    "micro = 1000\n",
    "macro = 10\n",
    "nskip = 0\n",
    "\n",
    "\n",
    "###############################################################################################################################\n",
    "\n",
    "for name, prop in pHs.items():\n",
    "    %mkdir $name\n",
    "    %cd -q $name\n",
    "    for pH in prop ['pH']:\n",
    "        %mkdir $pH\n",
    "        %cd -q $pH\n",
    "\n",
    "        Input= prop['input'] \n",
    "        mkinput()\n",
    "\n",
    "        exists = os.path.isfile('state.json')\n",
    "        #if exists:\n",
    "            #!export OMP_NUM_THREADS=1;/Users/marco/faunus/faunus -i input.json -s state.json -v 6 #> out\n",
    "        #    !sbatch ../../../submit_state.sh   \n",
    "        #else:\n",
    "            #!export OMP_NUM_THREADS=1;/Users/marco/faunus/faunus -i input.json  -v 6 #> out\n",
    "        #    !sbatch ../../../submit.sh\n",
    "                \n",
    "        %cd -q ../\n",
    "    %cd -q ../"
   ]
  },
  {
   "cell_type": "code",
   "execution_count": null,
   "metadata": {},
   "outputs": [],
   "source": [
    "!squeue -u marpoli\n",
    "#!scancel 5700667"
   ]
  },
  {
   "cell_type": "markdown",
   "metadata": {},
   "source": [
    "## Check charge equilibration"
   ]
  },
  {
   "cell_type": "code",
   "execution_count": null,
   "metadata": {},
   "outputs": [],
   "source": [
    "################################################################\n",
    "pHs = {'pH2': { 'pH': [2],  'input':workdir+'/../PPI40_cg.pqr'},\n",
    "       'pH5': { 'pH': [5],  'input':workdir+'/../PPI40_cg.pqr'} \n",
    "      }\n",
    "################################################################\n",
    "\n",
    "\n",
    "for name, prop in pHs.items():\n",
    "    for pH in prop ['pH']:\n",
    "        path = '/'+str(name)+'/'+str(pH)+'/'\n",
    "        step, Q = np.loadtxt(workdir+path+'Q_protein.dat',unpack=True, usecols=(0,1))\n",
    "        \n",
    "        plt.plot(step, Q, 'x-', label=str(r))\n",
    "        plt.xlabel('Steps')\n",
    "        plt.ylabel('Q (e)')\n",
    "        print('Last total charge is: ', Q[-1], 'e')"
   ]
  },
  {
   "cell_type": "markdown",
   "metadata": {},
   "source": [
    "# Create inputs for production runs"
   ]
  },
  {
   "cell_type": "code",
   "execution_count": null,
   "metadata": {},
   "outputs": [],
   "source": [
    "# Load equilibrated charges\n",
    "r2_pH2, r8_pH2  = np.loadtxt('pH2/2/confout_eq.pqr', skiprows=1, unpack=True, usecols=(2, 8), dtype=str) # remove the 'END' before to run it\n",
    "r2_pH5, r8_pH5  = np.loadtxt('pH5/5/confout_eq.pqr', skiprows=1, unpack=True, usecols=(2, 8), dtype=str) # remove the 'END' before to run it\n",
    "\n",
    "# Load intial file \n",
    "r0, r1, r2, r3, r4, r5, r6, r7, r8, r9  = np.loadtxt('../../PPI40_cg.pqr', skiprows=1, unpack=True, usecols=(0,1,2,3,4,5,6,7,8,9), dtype=str)"
   ]
  },
  {
   "cell_type": "code",
   "execution_count": null,
   "metadata": {},
   "outputs": [],
   "source": [
    "# pH2\n",
    "with open('Q_eq_pH2.pqr','w') as f: \n",
    "    f.write(\"42\\n\")\n",
    "    writer = csv.writer(f, delimiter=\"\\t\",lineterminator='\\n') \n",
    "    writer.writerows(zip(r0, r1, r2_pH2, r2_pH2, r4, r5, r6, r7, r8_pH2, r9))\n",
    "    f.write('END\\n')"
   ]
  },
  {
   "cell_type": "code",
   "execution_count": null,
   "metadata": {},
   "outputs": [],
   "source": [
    "# pH5\n",
    "with open('Q_eq_pH5.pqr','w') as f: \n",
    "    f.write(\"42\\n\")\n",
    "    writer = csv.writer(f, delimiter=\"\\t\",lineterminator='\\n') \n",
    "    writer.writerows(zip(r0, r1, r2_pH5, r2_pH5, r4, r5, r6, r7, r8_pH5, r9))\n",
    "    f.write('END\\n')"
   ]
  }
 ],
 "metadata": {
  "kernelspec": {
   "display_name": "Python 3",
   "language": "python",
   "name": "python3"
  },
  "language_info": {
   "codemirror_mode": {
    "name": "ipython",
    "version": 3
   },
   "file_extension": ".py",
   "mimetype": "text/x-python",
   "name": "python",
   "nbconvert_exporter": "python",
   "pygments_lexer": "ipython3",
   "version": "3.8.5"
  }
 },
 "nbformat": 4,
 "nbformat_minor": 2
}
